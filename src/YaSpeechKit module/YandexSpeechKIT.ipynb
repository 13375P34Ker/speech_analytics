{
 "cells": [
  {
   "cell_type": "code",
   "execution_count": null,
   "metadata": {
    "cellId": "mybwhh3tw1ruro575tygrh"
   },
   "outputs": [],
   "source": [
    "# -*- coding: utf-8 -*-\n",
    "\n",
    "import requests\n",
    "import time\n",
    "import json\n",
    "\n",
    "# Укажите ваш API-ключ и ссылку на аудиофайл в Object Storage.\n",
    "key = 'AQVN04A7z82ThiFEPMLxjf8wYT6hXRZb8U1ZiCxj'\n",
    "filelink = 'https://storage.yandexcloud.net/recordscomptech21/test_record2.wav'\n",
    "\n",
    "POST = \"https://transcribe.api.cloud.yandex.net/speech/stt/v2/longRunningRecognize\"\n",
    "\n",
    "body ={\n",
    "    \"config\": {\n",
    "        \"specification\": {\n",
    "            \"languageCode\": \"ru-RU\",\n",
    "            \"model\": \"general:rc\",\n",
    "            \"audioEncoding\": \"LINEAR16_PCM\",\n",
    "            \"sampleRateHertz\": 48000,\n",
    "            \"audioChannelCount\": 1\n",
    "        }\n",
    "    },\n",
    "    \"audio\": {\n",
    "        \"uri\": filelink\n",
    "    }\n",
    "}\n",
    "\n",
    "header = {'Authorization': 'Api-Key {}'.format(key)}\n",
    "\n",
    "# Отправить запрос на распознавание.\n",
    "req = requests.post(POST, headers=header, json=body)\n",
    "data = req.json()\n",
    "print(data)\n",
    "\n",
    "id = data['id']\n",
    "\n",
    "# Запрашивать на сервере статус операции, пока распознавание не будет завершено.\n",
    "while True:\n",
    "\n",
    "    time.sleep(1)\n",
    "\n",
    "    GET = \"https://operation.api.cloud.yandex.net/operations/{id}\"\n",
    "    req = requests.get(GET.format(id=id), headers=header)\n",
    "    req = req.json()\n",
    "\n",
    "    if req['done']: break\n",
    "    print(\"Not ready\")\n",
    "\n",
    "\n",
    "# Текст результатов распознавания.\n",
    "print(\"Text chunks:\")\n",
    "for chunk in req['response']['chunks']:\n",
    "    print(chunk['alternatives'][0]['text'])\n"
   ]
  },
  {
   "cell_type": "code",
   "execution_count": null,
   "metadata": {
    "cellId": "stkiwaan6165ez9x6d90u"
   },
   "outputs": [],
   "source": []
  }
 ],
 "metadata": {
  "kernelspec": {
   "display_name": "Python 3",
   "language": "python",
   "name": "python3"
  },
  "language_info": {
   "codemirror_mode": {
    "name": "ipython",
    "version": 3
   },
   "file_extension": ".py",
   "mimetype": "text/x-python",
   "name": "python",
   "nbconvert_exporter": "python",
   "pygments_lexer": "ipython3",
   "version": "3.8.3"
  },
  "notebookId": "7d307876-d82a-4cef-aa23-767e4207ce08"
 },
 "nbformat": 4,
 "nbformat_minor": 4
}
